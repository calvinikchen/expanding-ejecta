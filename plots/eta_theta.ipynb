{
 "cells": [
  {
   "cell_type": "code",
   "execution_count": 1,
   "id": "b44cf8b6-7cff-4686-8701-54947b72d7bc",
   "metadata": {},
   "outputs": [],
   "source": [
    "import numpy as np\n",
    "import warnings\n",
    "import matplotlib.pyplot as plt\n",
    "warnings.filterwarnings('ignore')\n",
    "\n",
    "import corner\n",
    "import matplotlib as mpl"
   ]
  },
  {
   "cell_type": "code",
   "execution_count": 2,
   "id": "11db9345-3ea5-42ea-a4d0-f53a7ed490a3",
   "metadata": {},
   "outputs": [],
   "source": [
    "plt.rcdefaults()\n",
    "fontsize = 14\n",
    "from matplotlib import font_manager\n",
    "from matplotlib import rcParams\n",
    "from matplotlib import rc\n",
    "\n",
    "cmfont = font_manager.FontProperties(fname=mpl.get_data_path() + '/fonts/ttf/cmr10.ttf')\n",
    "plt.rcParams['font.serif']=cmfont.get_name()\n",
    "params = {\"ytick.color\" : \"black\",\n",
    "          \"xtick.color\" : \"black\",\n",
    "          \"axes.labelcolor\" : \"black\",\n",
    "          \"axes.edgecolor\" : \"black\",\n",
    "          \"font.size\" : 16,#fontsize,\n",
    "          \"text.usetex\" : True,\n",
    "          \"mathtext.fontset\" : \"cm\",\n",
    "          \"font.family\" : \"serif\",\n",
    "          \"font.serif\" : [cmfont.get_name()],\n",
    "          \"text.latex.preamble\" : r\"\\usepackage{amsmath}\"}\n",
    "plt.rcParams['axes.unicode_minus']=False\n",
    "plt.rcParams.update(params)"
   ]
  },
  {
   "cell_type": "code",
   "execution_count": 3,
   "id": "ec507a81-b8ff-4fcb-8bb9-64c0bf9f0ee2",
   "metadata": {},
   "outputs": [],
   "source": [
    "def read_cov(fname):\n",
    "    cov = np.genfromtxt(fname, delimiter = ',')\n",
    "    eig, ev = np.linalg.eig(np.linalg.inv(cov))\n",
    "    \n",
    "    if not np.all(eig > 0):\n",
    "        ind = np.where(eig < 0)[0][0]\n",
    "        eig[ind] = 1e-6\n",
    "        hes = ev.dot(np.diag(eig).dot(ev.T))\n",
    "        cov = np.linalg.inv(hes)\n",
    "        \n",
    "    return cov\n",
    "\n",
    "\n",
    "def gen_cov_ck(cov):\n",
    "    hes = np.linalg.inv(cov)\n",
    "    hes[[0,1]] = hes[[1,0]]\n",
    "    hes[:,[0,1]] = hes[:,[1,0]]\n",
    "    \n",
    "    inv_cov_ck = np.zeros((9,9))\n",
    "    inv_cov_ck[:5,:5] = hes[1:6,1:6]\n",
    "    \n",
    "    inv_cov_ck[7,:5] = hes[0,1:6]\n",
    "    inv_cov_ck[:5,7] = hes[0,1:6]\n",
    "    \n",
    "    inv_cov_ck[7,8] = hes[0,6]\n",
    "    inv_cov_ck[8,7] = hes[0,6]\n",
    "    \n",
    "    inv_cov_ck[8,:5] = hes[6, 1:6]\n",
    "    inv_cov_ck[:5,8] = hes[6, 1:6]\n",
    "    \n",
    "    inv_cov_ck[7,7] = hes[0,0]\n",
    "    inv_cov_ck[8,8] = hes[6,6]\n",
    "    return inv_cov_ck\n",
    "\n",
    "\n",
    "def eta_err(a, t):\n",
    "    \n",
    "    cov = read_cov(f'../data/cov_a{a}_t{t}.csv')\n",
    "    inv_cov_ck = gen_cov_ck(cov)\n",
    "\n",
    "    cov_spec = read_cov(f'../data/cov_spec_a{a}_t{t}.csv')#, delimiter = ',')\n",
    "    \n",
    "    inv_cov_sp = np.zeros((9,9))\n",
    "    inv_cov_sp[:7,:7] = np.linalg.inv(cov_spec)\n",
    "    \n",
    "    cov_tot = np.linalg.inv(inv_cov_ck + inv_cov_sp)# - np.eye(9)*1e-1)\n",
    "    return [np.sqrt(np.diag(cov_tot))[3], np.sqrt(np.diag(cov))[4], np.sqrt(np.diag(cov_spec))[3]]"
   ]
  },
  {
   "cell_type": "code",
   "execution_count": 4,
   "id": "7418aec1-d064-41b4-a245-f831efb501fb",
   "metadata": {},
   "outputs": [],
   "source": [
    "t_ar = np.linspace(0, 90, 9)\n",
    "\n",
    "err_0 = eta_err(0,0)\n",
    "err_2 = np.array([eta_err(2, int(i)) for i in t_ar])\n",
    "err_8 = np.array([eta_err(8, int(i)) for i in t_ar])"
   ]
  },
  {
   "cell_type": "code",
   "execution_count": 5,
   "id": "dc570b0e-1ceb-4014-bb67-513d0c38a430",
   "metadata": {},
   "outputs": [
    {
     "data": {
      "text/plain": [
       "Text(0.5, 1.0, 'spectrum')"
      ]
     },
     "execution_count": 5,
     "metadata": {},
     "output_type": "execute_result"
    },
    {
     "data": {
      "image/png": "[encoded data removed]",
      "text/plain": [
       "<Figure size 1500x400 with 3 Axes>"
      ]
     },
     "metadata": {},
     "output_type": "display_data"
    }
   ],
   "source": [
    "plt.figure(figsize = (15,4))\n",
    "\n",
    "plt.subplot(131)\n",
    "plt.plot(np.linspace(0,np.pi/2,9), np.zeros(9)+1.2)\n",
    "plt.fill_between(np.linspace(0,np.pi/2,9), 1.2*np.exp(-1*err_2[:,0]),1.2*np.exp(err_2[:,0]), alpha= .2)\n",
    "\n",
    "plt.plot(np.linspace(0,np.pi/2,9), np.zeros(9) + 1)\n",
    "plt.fill_between(np.linspace(0,np.pi/2,9), 1*np.exp(-1*err_0[0]), 1*np.exp(err_0[0]), alpha= .2)\n",
    "\n",
    "plt.plot(np.linspace(0,np.pi/2,9), np.zeros(9)+.8)\n",
    "plt.fill_between(np.linspace(0,np.pi/2,9), 0.8*np.exp(-1*err_8[:,0]),0.8*np.exp(err_8[:,0]), alpha= .2)\n",
    "\n",
    "plt.ylim(0.5, 1.7)\n",
    "plt.xlabel(r'$\\theta$')\n",
    "plt.ylabel(r'$\\eta$')\n",
    "plt.title(r'$\\text{spectrum}~\\&~C_k$')\n",
    "\n",
    "plt.subplot(132)\n",
    "plt.plot(np.linspace(0,np.pi/2,9), np.zeros(9)+1.2)\n",
    "plt.fill_between(np.linspace(0,np.pi/2,9), 1.2*np.exp(-1*err_2[:,1]),1.2*np.exp(err_2[:,1]), alpha= .2)\n",
    "\n",
    "plt.plot(np.linspace(0,np.pi/2,9), np.zeros(9) + 1)\n",
    "plt.fill_between(np.linspace(0,np.pi/2,9), 1*np.exp(-1*err_0[1]), 1*np.exp(err_0[1]), alpha= .2)\n",
    "\n",
    "plt.plot(np.linspace(0,np.pi/2,9), np.zeros(9)+.8)\n",
    "plt.fill_between(np.linspace(0,np.pi/2,9), 0.8*np.exp(-1*err_8[:,1]),0.8*np.exp(err_8[:,1]), alpha= .2)\n",
    "\n",
    "plt.ylim(0.5, 1.7)\n",
    "plt.xlabel(r'$\\theta$')\n",
    "plt.title(r'$C_k$')\n",
    "\n",
    "plt.subplot(133)\n",
    "plt.plot(np.linspace(0,np.pi/2,9), np.zeros(9)+1.2)\n",
    "plt.fill_between(np.linspace(0,np.pi/2,9), 1.2*np.exp(-1*err_2[:,2]),1.2*np.exp(err_2[:,2]), alpha= .2)\n",
    "\n",
    "plt.plot(np.linspace(0,np.pi/2,9), np.zeros(9) + 1)\n",
    "plt.fill_between(np.linspace(0,np.pi/2,9), 1*np.exp(-1*err_0[2]), 1*np.exp(err_0[2]), alpha= .2)\n",
    "\n",
    "plt.plot(np.linspace(0,np.pi/2,9), np.zeros(9)+.8)\n",
    "plt.fill_between(np.linspace(0,np.pi/2,9), 0.8*np.exp(-1*err_8[:,2]),0.8*np.exp(err_8[:,2]), alpha= .2)\n",
    "\n",
    "plt.ylim(0.5, 1.7)\n",
    "plt.xlabel(r'$\\theta$')\n",
    "plt.title(r'spectrum')\n",
    "#plt.savefig('theta_eta.png', bbox_inches = 'tight')"
   ]
  },
  {
   "cell_type": "code",
   "execution_count": null,
   "id": "91f9998b-2493-4540-b42d-692b87d98372",
   "metadata": {},
   "outputs": [],
   "source": []
  }
 ],
 "metadata": {
  "kernelspec": {
   "display_name": "Python 3 (ipykernel)",
   "language": "python",
   "name": "python3"
  },
  "language_info": {
   "codemirror_mode": {
    "name": "ipython",
    "version": 3
   },
   "file_extension": ".py",
   "mimetype": "text/x-python",
   "name": "python",
   "nbconvert_exporter": "python",
   "pygments_lexer": "ipython3",
   "version": "3.10.12"
  }
 },
 "nbformat": 4,
 "nbformat_minor": 5
}
